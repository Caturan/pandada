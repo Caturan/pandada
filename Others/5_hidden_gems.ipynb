{
 "cells": [
  {
   "cell_type": "markdown",
   "metadata": {},
   "source": [
    "## 1. query() Method for Filtering Data \n",
    "- What it is: The query() method allows us to filter data in a DataFrame using a more readable and concise string-based expression. \n",
    "- Why it's useful: It avoids the verbosity of standard indexing and makes the code more readable, espacially for complex conditions."
   ]
  },
  {
   "cell_type": "code",
   "execution_count": 1,
   "metadata": {},
   "outputs": [
    {
     "name": "stdout",
     "output_type": "stream",
     "text": [
      "   A   B\n",
      "2  3  30\n"
     ]
    }
   ],
   "source": [
    "import pandas as pd \n",
    "\n",
    "df = pd.DataFrame({'A': [1, 2, 3, 4],\n",
    "                   'B': [10, 20, 30, 40]})\n",
    "result = df.query('A > 2 & B < 40')\n",
    "print(result)"
   ]
  },
  {
   "cell_type": "markdown",
   "metadata": {},
   "source": [
    "## 2. eval() Method for Efficinet Calculations \n",
    "- What it is: The eval() method evaluates a string expression within the context of a DataFrame, allowing for efficient computation.\n",
    "- Why it's useful: It can speed up operations involving arithmetic or logical operations on DataFrame columns, especially with large datasets. "
   ]
  },
  {
   "cell_type": "code",
   "execution_count": 2,
   "metadata": {},
   "outputs": [
    {
     "name": "stdout",
     "output_type": "stream",
     "text": [
      "   A   B   C\n",
      "0  1  10  11\n",
      "1  2  20  22\n",
      "2  3  30  33\n",
      "3  4  40  44\n"
     ]
    }
   ],
   "source": [
    "df['C'] = df.eval('A + B')\n",
    "print(df)"
   ]
  },
  {
   "cell_type": "markdown",
   "metadata": {},
   "source": [
    "## 3. at and iat for Fast Access\n",
    "- What it is: at and iat are optimized methods for accessing scalar values in a DataFrame. \n",
    "- Why it's useful: These methods are much faster than using .loc[] or .iloc[] for individual cell access, making them ideal for performance-critical code. "
   ]
  },
  {
   "cell_type": "code",
   "execution_count": 3,
   "metadata": {},
   "outputs": [
    {
     "name": "stdout",
     "output_type": "stream",
     "text": [
      "30\n"
     ]
    }
   ],
   "source": [
    "value = df.at[2, 'B']\n",
    "print(value)"
   ]
  },
  {
   "cell_type": "markdown",
   "metadata": {},
   "source": [
    "## 4. pipe() Method for Method Chaining \n",
    "- What it is: The pipe() method allows us to apply a function or sequence of functions to a DataFrame within a method chain. \n",
    "- Why it's useful: It improves code readability by keeping the DataFrame operations within a single fluent chain. "
   ]
  },
  {
   "cell_type": "code",
   "execution_count": 4,
   "metadata": {},
   "outputs": [
    {
     "name": "stdout",
     "output_type": "stream",
     "text": [
      "    A   B   C\n",
      "0  11  20  21\n",
      "1  12  30  32\n",
      "2  13  40  43\n",
      "3  14  50  54\n"
     ]
    }
   ],
   "source": [
    "def add_constant(df, value):\n",
    "    return df + value \n",
    "\n",
    "df = df.pipe(add_constant, 10)\n",
    "print(df)"
   ]
  },
  {
   "cell_type": "markdown",
   "metadata": {},
   "source": [
    "## 5. explode() for Expanding Lists in Cells \n",
    "- What it is: The explode() method expands a list-like column into separate rows. \n",
    "- Why it's useful: This is particularly useful when working with data that has embedded lists within cells and we need to analyze or visualize each item individually."
   ]
  },
  {
   "cell_type": "code",
   "execution_count": 5,
   "metadata": {},
   "outputs": [
    {
     "name": "stdout",
     "output_type": "stream",
     "text": [
      "   A   B\n",
      "0  1  10\n",
      "0  1  20\n",
      "0  1  30\n",
      "1  2  40\n",
      "1  2  50\n"
     ]
    }
   ],
   "source": [
    "df = pd.DataFrame({'A': [1, 2],\n",
    "                   'B': [[10, 20, 30], [40, 50]]})\n",
    "df_exploded = df.explode('B')\n",
    "print(df_exploded)"
   ]
  }
 ],
 "metadata": {
  "kernelspec": {
   "display_name": "Python 3",
   "language": "python",
   "name": "python3"
  },
  "language_info": {
   "codemirror_mode": {
    "name": "ipython",
    "version": 3
   },
   "file_extension": ".py",
   "mimetype": "text/x-python",
   "name": "python",
   "nbconvert_exporter": "python",
   "pygments_lexer": "ipython3",
   "version": "3.10.8"
  }
 },
 "nbformat": 4,
 "nbformat_minor": 2
}
